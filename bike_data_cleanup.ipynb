{
 "cells": [
  {
   "cell_type": "markdown",
   "id": "10a9a7fc",
   "metadata": {},
   "source": [
    "# Chapter 2 Bike Data Cleanup"
   ]
  },
  {
   "cell_type": "code",
   "execution_count": 2,
   "id": "cdc45c20",
   "metadata": {},
   "outputs": [],
   "source": [
    "%matplotlib inline\n",
    "import pandas as pd\n",
    "import numpy as np\n",
    "import matplotlib.pyplot as plt\n",
    "import pickle\n",
    "import warnings\n",
    "warnings.filterwarnings('ignore')\n",
    "\n",
    "from sklearn.model_selection import train_test_split\n",
    "from sklearn.metrics import mean_squared_error, r2_score\n",
    "from math import sqrt\n",
    "\n",
    "from io import BytesIO\n",
    "from urllib.request import urlopen\n",
    "from zipfile import ZipFile\n",
    "zipurl = 'https://archive.ics.uci.edu/ml/machine-learning-databases/00275/Bike-Sharing-Dataset.zip'\n",
    "with urlopen(zipurl) as zipresp:\n",
    "    with ZipFile(BytesIO(zipresp.read())) as zfile:\n",
    "        zfile.extractall('tmp/Bike-Sharing-Dataset')\n",
    "\n",
    "\n"
   ]
  },
  {
   "cell_type": "code",
   "execution_count": 3,
   "id": "40cc9981",
   "metadata": {},
   "outputs": [],
   "source": [
    "bikes_hour_df_raw = pd.read_csv('tmp/Bike-Sharing-Dataset/hour.csv')\n",
    "bikes_day_df_raw = pd.read_csv('tmp/Bike-Sharing-Dataset/day.csv')"
   ]
  },
  {
   "cell_type": "code",
   "execution_count": 4,
   "id": "3abe4c14",
   "metadata": {},
   "outputs": [
    {
     "data": {
      "text/html": [
       "<div>\n",
       "<style scoped>\n",
       "    .dataframe tbody tr th:only-of-type {\n",
       "        vertical-align: middle;\n",
       "    }\n",
       "\n",
       "    .dataframe tbody tr th {\n",
       "        vertical-align: top;\n",
       "    }\n",
       "\n",
       "    .dataframe thead th {\n",
       "        text-align: right;\n",
       "    }\n",
       "</style>\n",
       "<table border=\"1\" class=\"dataframe\">\n",
       "  <thead>\n",
       "    <tr style=\"text-align: right;\">\n",
       "      <th></th>\n",
       "      <th>instant</th>\n",
       "      <th>dteday</th>\n",
       "      <th>season</th>\n",
       "      <th>yr</th>\n",
       "      <th>mnth</th>\n",
       "      <th>hr</th>\n",
       "      <th>holiday</th>\n",
       "      <th>weekday</th>\n",
       "      <th>workingday</th>\n",
       "      <th>weathersit</th>\n",
       "      <th>temp</th>\n",
       "      <th>atemp</th>\n",
       "      <th>hum</th>\n",
       "      <th>windspeed</th>\n",
       "      <th>casual</th>\n",
       "      <th>registered</th>\n",
       "      <th>cnt</th>\n",
       "    </tr>\n",
       "  </thead>\n",
       "  <tbody>\n",
       "    <tr>\n",
       "      <th>0</th>\n",
       "      <td>1</td>\n",
       "      <td>2011-01-01</td>\n",
       "      <td>1</td>\n",
       "      <td>0</td>\n",
       "      <td>1</td>\n",
       "      <td>0</td>\n",
       "      <td>0</td>\n",
       "      <td>6</td>\n",
       "      <td>0</td>\n",
       "      <td>1</td>\n",
       "      <td>0.24</td>\n",
       "      <td>0.2879</td>\n",
       "      <td>0.81</td>\n",
       "      <td>0.0</td>\n",
       "      <td>3</td>\n",
       "      <td>13</td>\n",
       "      <td>16</td>\n",
       "    </tr>\n",
       "    <tr>\n",
       "      <th>1</th>\n",
       "      <td>2</td>\n",
       "      <td>2011-01-01</td>\n",
       "      <td>1</td>\n",
       "      <td>0</td>\n",
       "      <td>1</td>\n",
       "      <td>1</td>\n",
       "      <td>0</td>\n",
       "      <td>6</td>\n",
       "      <td>0</td>\n",
       "      <td>1</td>\n",
       "      <td>0.22</td>\n",
       "      <td>0.2727</td>\n",
       "      <td>0.80</td>\n",
       "      <td>0.0</td>\n",
       "      <td>8</td>\n",
       "      <td>32</td>\n",
       "      <td>40</td>\n",
       "    </tr>\n",
       "    <tr>\n",
       "      <th>2</th>\n",
       "      <td>3</td>\n",
       "      <td>2011-01-01</td>\n",
       "      <td>1</td>\n",
       "      <td>0</td>\n",
       "      <td>1</td>\n",
       "      <td>2</td>\n",
       "      <td>0</td>\n",
       "      <td>6</td>\n",
       "      <td>0</td>\n",
       "      <td>1</td>\n",
       "      <td>0.22</td>\n",
       "      <td>0.2727</td>\n",
       "      <td>0.80</td>\n",
       "      <td>0.0</td>\n",
       "      <td>5</td>\n",
       "      <td>27</td>\n",
       "      <td>32</td>\n",
       "    </tr>\n",
       "    <tr>\n",
       "      <th>3</th>\n",
       "      <td>4</td>\n",
       "      <td>2011-01-01</td>\n",
       "      <td>1</td>\n",
       "      <td>0</td>\n",
       "      <td>1</td>\n",
       "      <td>3</td>\n",
       "      <td>0</td>\n",
       "      <td>6</td>\n",
       "      <td>0</td>\n",
       "      <td>1</td>\n",
       "      <td>0.24</td>\n",
       "      <td>0.2879</td>\n",
       "      <td>0.75</td>\n",
       "      <td>0.0</td>\n",
       "      <td>3</td>\n",
       "      <td>10</td>\n",
       "      <td>13</td>\n",
       "    </tr>\n",
       "    <tr>\n",
       "      <th>4</th>\n",
       "      <td>5</td>\n",
       "      <td>2011-01-01</td>\n",
       "      <td>1</td>\n",
       "      <td>0</td>\n",
       "      <td>1</td>\n",
       "      <td>4</td>\n",
       "      <td>0</td>\n",
       "      <td>6</td>\n",
       "      <td>0</td>\n",
       "      <td>1</td>\n",
       "      <td>0.24</td>\n",
       "      <td>0.2879</td>\n",
       "      <td>0.75</td>\n",
       "      <td>0.0</td>\n",
       "      <td>0</td>\n",
       "      <td>1</td>\n",
       "      <td>1</td>\n",
       "    </tr>\n",
       "  </tbody>\n",
       "</table>\n",
       "</div>"
      ],
      "text/plain": [
       "   instant      dteday  season  yr  ...  windspeed  casual  registered  cnt\n",
       "0        1  2011-01-01       1   0  ...        0.0       3          13   16\n",
       "1        2  2011-01-01       1   0  ...        0.0       8          32   40\n",
       "2        3  2011-01-01       1   0  ...        0.0       5          27   32\n",
       "3        4  2011-01-01       1   0  ...        0.0       3          10   13\n",
       "4        5  2011-01-01       1   0  ...        0.0       0           1    1\n",
       "\n",
       "[5 rows x 17 columns]"
      ]
     },
     "execution_count": 4,
     "metadata": {},
     "output_type": "execute_result"
    }
   ],
   "source": [
    "bikes_hour_df_raw.head()"
   ]
  },
  {
   "cell_type": "markdown",
   "id": "3046882b",
   "metadata": {},
   "source": [
    "### Remove Uneeded Features"
   ]
  },
  {
   "cell_type": "code",
   "execution_count": 5,
   "id": "aa90f046",
   "metadata": {},
   "outputs": [],
   "source": [
    "bikes_hour_df = bikes_hour_df_raw.drop(['casual','registered'], axis=1)"
   ]
  },
  {
   "cell_type": "code",
   "execution_count": 6,
   "id": "5bd23027",
   "metadata": {},
   "outputs": [
    {
     "data": {
      "text/html": [
       "<div>\n",
       "<style scoped>\n",
       "    .dataframe tbody tr th:only-of-type {\n",
       "        vertical-align: middle;\n",
       "    }\n",
       "\n",
       "    .dataframe tbody tr th {\n",
       "        vertical-align: top;\n",
       "    }\n",
       "\n",
       "    .dataframe thead th {\n",
       "        text-align: right;\n",
       "    }\n",
       "</style>\n",
       "<table border=\"1\" class=\"dataframe\">\n",
       "  <thead>\n",
       "    <tr style=\"text-align: right;\">\n",
       "      <th></th>\n",
       "      <th>instant</th>\n",
       "      <th>dteday</th>\n",
       "      <th>season</th>\n",
       "      <th>yr</th>\n",
       "      <th>mnth</th>\n",
       "      <th>hr</th>\n",
       "      <th>holiday</th>\n",
       "      <th>weekday</th>\n",
       "      <th>workingday</th>\n",
       "      <th>weathersit</th>\n",
       "      <th>temp</th>\n",
       "      <th>atemp</th>\n",
       "      <th>hum</th>\n",
       "      <th>windspeed</th>\n",
       "      <th>cnt</th>\n",
       "    </tr>\n",
       "  </thead>\n",
       "  <tbody>\n",
       "    <tr>\n",
       "      <th>0</th>\n",
       "      <td>1</td>\n",
       "      <td>2011-01-01</td>\n",
       "      <td>1</td>\n",
       "      <td>0</td>\n",
       "      <td>1</td>\n",
       "      <td>0</td>\n",
       "      <td>0</td>\n",
       "      <td>6</td>\n",
       "      <td>0</td>\n",
       "      <td>1</td>\n",
       "      <td>0.24</td>\n",
       "      <td>0.2879</td>\n",
       "      <td>0.81</td>\n",
       "      <td>0.0</td>\n",
       "      <td>16</td>\n",
       "    </tr>\n",
       "    <tr>\n",
       "      <th>1</th>\n",
       "      <td>2</td>\n",
       "      <td>2011-01-01</td>\n",
       "      <td>1</td>\n",
       "      <td>0</td>\n",
       "      <td>1</td>\n",
       "      <td>1</td>\n",
       "      <td>0</td>\n",
       "      <td>6</td>\n",
       "      <td>0</td>\n",
       "      <td>1</td>\n",
       "      <td>0.22</td>\n",
       "      <td>0.2727</td>\n",
       "      <td>0.80</td>\n",
       "      <td>0.0</td>\n",
       "      <td>40</td>\n",
       "    </tr>\n",
       "    <tr>\n",
       "      <th>2</th>\n",
       "      <td>3</td>\n",
       "      <td>2011-01-01</td>\n",
       "      <td>1</td>\n",
       "      <td>0</td>\n",
       "      <td>1</td>\n",
       "      <td>2</td>\n",
       "      <td>0</td>\n",
       "      <td>6</td>\n",
       "      <td>0</td>\n",
       "      <td>1</td>\n",
       "      <td>0.22</td>\n",
       "      <td>0.2727</td>\n",
       "      <td>0.80</td>\n",
       "      <td>0.0</td>\n",
       "      <td>32</td>\n",
       "    </tr>\n",
       "    <tr>\n",
       "      <th>3</th>\n",
       "      <td>4</td>\n",
       "      <td>2011-01-01</td>\n",
       "      <td>1</td>\n",
       "      <td>0</td>\n",
       "      <td>1</td>\n",
       "      <td>3</td>\n",
       "      <td>0</td>\n",
       "      <td>6</td>\n",
       "      <td>0</td>\n",
       "      <td>1</td>\n",
       "      <td>0.24</td>\n",
       "      <td>0.2879</td>\n",
       "      <td>0.75</td>\n",
       "      <td>0.0</td>\n",
       "      <td>13</td>\n",
       "    </tr>\n",
       "    <tr>\n",
       "      <th>4</th>\n",
       "      <td>5</td>\n",
       "      <td>2011-01-01</td>\n",
       "      <td>1</td>\n",
       "      <td>0</td>\n",
       "      <td>1</td>\n",
       "      <td>4</td>\n",
       "      <td>0</td>\n",
       "      <td>6</td>\n",
       "      <td>0</td>\n",
       "      <td>1</td>\n",
       "      <td>0.24</td>\n",
       "      <td>0.2879</td>\n",
       "      <td>0.75</td>\n",
       "      <td>0.0</td>\n",
       "      <td>1</td>\n",
       "    </tr>\n",
       "  </tbody>\n",
       "</table>\n",
       "</div>"
      ],
      "text/plain": [
       "   instant      dteday  season  yr  mnth  ...  temp   atemp   hum  windspeed  cnt\n",
       "0        1  2011-01-01       1   0     1  ...  0.24  0.2879  0.81        0.0   16\n",
       "1        2  2011-01-01       1   0     1  ...  0.22  0.2727  0.80        0.0   40\n",
       "2        3  2011-01-01       1   0     1  ...  0.22  0.2727  0.80        0.0   32\n",
       "3        4  2011-01-01       1   0     1  ...  0.24  0.2879  0.75        0.0   13\n",
       "4        5  2011-01-01       1   0     1  ...  0.24  0.2879  0.75        0.0    1\n",
       "\n",
       "[5 rows x 15 columns]"
      ]
     },
     "execution_count": 6,
     "metadata": {},
     "output_type": "execute_result"
    }
   ],
   "source": [
    "bikes_hour_df.head()"
   ]
  },
  {
   "cell_type": "code",
   "execution_count": 7,
   "id": "2df22506",
   "metadata": {},
   "outputs": [
    {
     "name": "stdout",
     "output_type": "stream",
     "text": [
      "<class 'pandas.core.frame.DataFrame'>\n",
      "RangeIndex: 17379 entries, 0 to 17378\n",
      "Data columns (total 15 columns):\n",
      " #   Column      Non-Null Count  Dtype  \n",
      "---  ------      --------------  -----  \n",
      " 0   instant     17379 non-null  int64  \n",
      " 1   dteday      17379 non-null  object \n",
      " 2   season      17379 non-null  int64  \n",
      " 3   yr          17379 non-null  int64  \n",
      " 4   mnth        17379 non-null  int64  \n",
      " 5   hr          17379 non-null  int64  \n",
      " 6   holiday     17379 non-null  int64  \n",
      " 7   weekday     17379 non-null  int64  \n",
      " 8   workingday  17379 non-null  int64  \n",
      " 9   weathersit  17379 non-null  int64  \n",
      " 10  temp        17379 non-null  float64\n",
      " 11  atemp       17379 non-null  float64\n",
      " 12  hum         17379 non-null  float64\n",
      " 13  windspeed   17379 non-null  float64\n",
      " 14  cnt         17379 non-null  int64  \n",
      "dtypes: float64(4), int64(10), object(1)\n",
      "memory usage: 2.0+ MB\n"
     ]
    }
   ],
   "source": [
    "bikes_hour_df.info()"
   ]
  },
  {
   "cell_type": "code",
   "execution_count": 8,
   "id": "2d0101eb",
   "metadata": {},
   "outputs": [
    {
     "data": {
      "text/plain": [
       "count    17379.000000\n",
       "mean       189.463088\n",
       "std        181.387599\n",
       "min          1.000000\n",
       "25%         40.000000\n",
       "50%        142.000000\n",
       "75%        281.000000\n",
       "max        977.000000\n",
       "Name: cnt, dtype: float64"
      ]
     },
     "execution_count": 8,
     "metadata": {},
     "output_type": "execute_result"
    }
   ],
   "source": [
    "bikes_hour_df['cnt'].describe()"
   ]
  },
  {
   "cell_type": "code",
   "execution_count": 9,
   "id": "5e4636e9",
   "metadata": {},
   "outputs": [
    {
     "data": {
      "image/png": "[encoded data removed]",
      "text/plain": [
       "<Figure size 640x480 with 1 Axes>"
      ]
     },
     "metadata": {},
     "output_type": "display_data"
    }
   ],
   "source": [
    "fig, ax = plt.subplots(1)\n",
    "ax.plot(sorted(bikes_hour_df['cnt']), color='blue')\n",
    "ax.set_xlabel(\"Row Index\", fontsize=12)\n",
    "ax.set_ylabel(\"Sorted Rental Counts\", fontsize=12)\n",
    "ax.set_ylabel(\"Sorted Rental Counts\", fontsize=12)\n",
    "fig.suptitle('Outcome Variable - cnt - Rental Counts')\n",
    "plt.show()"
   ]
  },
  {
   "cell_type": "code",
   "execution_count": 10,
   "id": "20cc300f",
   "metadata": {},
   "outputs": [
    {
     "data": {
      "image/png": "[encoded data removed]",
      "text/plain": [
       "<Figure size 640x480 with 1 Axes>"
      ]
     },
     "metadata": {},
     "output_type": "display_data"
    }
   ],
   "source": [
    "fig = plt.scatter(bikes_hour_df['temp'],bikes_hour_df['cnt'])\n",
    "plt.show()"
   ]
  },
  {
   "cell_type": "code",
   "execution_count": 11,
   "id": "65a8de31",
   "metadata": {},
   "outputs": [
    {
     "data": {
      "image/png": "[encoded data removed]",
      "text/plain": [
       "<Figure size 640x480 with 1 Axes>"
      ]
     },
     "metadata": {},
     "output_type": "display_data"
    }
   ],
   "source": [
    "fig = plt.scatter(bikes_hour_df['atemp'],bikes_hour_df['cnt'])\n",
    "plt.show()"
   ]
  },
  {
   "cell_type": "code",
   "execution_count": 12,
   "id": "6d609dfe",
   "metadata": {},
   "outputs": [
    {
     "data": {
      "image/png": "[encoded data removed]",
      "text/plain": [
       "<Figure size 640x480 with 1 Axes>"
      ]
     },
     "metadata": {},
     "output_type": "display_data"
    }
   ],
   "source": [
    "fig = plt.scatter(bikes_hour_df['hum'],bikes_hour_df['cnt'])\n",
    "plt.show()"
   ]
  },
  {
   "cell_type": "code",
   "execution_count": 13,
   "id": "db908d66",
   "metadata": {},
   "outputs": [
    {
     "data": {
      "image/png": "[encoded data removed]",
      "text/plain": [
       "<Figure size 640x480 with 1 Axes>"
      ]
     },
     "metadata": {},
     "output_type": "display_data"
    }
   ],
   "source": [
    "fig = plt.scatter(bikes_hour_df['windspeed'],bikes_hour_df['cnt'])\n",
    "plt.show()"
   ]
  },
  {
   "cell_type": "code",
   "execution_count": 14,
   "id": "464f6058",
   "metadata": {},
   "outputs": [
    {
     "data": {
      "text/plain": [
       "count    17379.000000\n",
       "mean         2.501640\n",
       "std          1.106918\n",
       "min          1.000000\n",
       "25%          2.000000\n",
       "50%          3.000000\n",
       "75%          3.000000\n",
       "max          4.000000\n",
       "Name: season, dtype: float64"
      ]
     },
     "execution_count": 14,
     "metadata": {},
     "output_type": "execute_result"
    }
   ],
   "source": [
    "bikes_hour_df['season'].describe()"
   ]
  },
  {
   "cell_type": "code",
   "execution_count": 15,
   "id": "85c295f9",
   "metadata": {},
   "outputs": [
    {
     "data": {
      "image/png": "[encoded data removed]",
      "text/plain": [
       "<Figure size 1300x600 with 2 Axes>"
      ]
     },
     "metadata": {},
     "output_type": "display_data"
    }
   ],
   "source": [
    "f, (ax1, ax2) =plt.subplots(nrows=1,ncols=2, figsize=(13, 6))\n",
    "ax1 = bikes_hour_df[['season','cnt']].groupby(['season']).sum().reset_index().plot(kind='bar',\n",
    "    legend = False, title = 'Count of Bike Rentals by season',\n",
    "    stacked =True, fontsize=12, ax=ax1)\n",
    "ax1.set_xlabel(\"season\", fontsize=12)\n",
    "ax1.set_ylabel(\"Count\", fontsize=12)\n",
    "ax1.set_xticklabels(['spring','summer','fall','winter'])\n",
    " \n",
    "ax2 = bikes_hour_df[['weathersit', 'cnt']].groupby(['weathersit']).sum().reset_index().plot(kind='bar',\n",
    "    legend = False, title = 'Count of Bike Rentals by weathersit',\n",
    "    stacked =True, fontsize=12, ax=ax2)\n",
    "ax2.set_xlabel(\"weathersit\", fontsize=12)\n",
    "ax2.set_ylabel(\"Count\", fontsize=12)\n",
    "ax2.set_xticklabels(['1: Clear','2: Mist','3; Light Snow','4: Meavy Rain'])\n",
    " \n",
    " \n",
    "f.tight_layout()"
   ]
  },
  {
   "cell_type": "code",
   "execution_count": 16,
   "id": "a60aee9c",
   "metadata": {},
   "outputs": [
    {
     "data": {
      "image/png": "[encoded data removed]",
      "text/plain": [
       "<Figure size 800x600 with 1 Axes>"
      ]
     },
     "metadata": {},
     "output_type": "display_data"
    }
   ],
   "source": [
    "ax = bikes_hour_df[['hr', 'cnt']].groupby(['hr']).sum().reset_index().plot(kind='bar', figsize=(8,6),\n",
    "                                                                                 legend = False, title = 'Count of Bike Rentals by Hour',\n",
    "                                                                                 color = 'purple', fontsize=12)\n",
    "ax.set_xlabel('Hour', fontsize=12)\n",
    "ax.set_ylabel('Count', fontsize=12)\n",
    "plt.show()"
   ]
  },
  {
   "cell_type": "code",
   "execution_count": 17,
   "id": "e7cfafcd",
   "metadata": {},
   "outputs": [],
   "source": [
    "bikes_hour_df = bikes_hour_df_raw.drop(['casual','registered','atemp'], axis=1)"
   ]
  },
  {
   "cell_type": "markdown",
   "id": "c7821a89",
   "metadata": {},
   "source": [
    "# Create two sets of data one for fitting and one for test"
   ]
  },
  {
   "cell_type": "code",
   "execution_count": 18,
   "id": "8bf82410",
   "metadata": {},
   "outputs": [
    {
     "name": "stdout",
     "output_type": "stream",
     "text": [
      "['season', 'yr', 'mnth', 'hr', 'holiday', 'weekday', 'workingday', 'weathersit', 'temp', 'hum', 'windspeed']\n"
     ]
    }
   ],
   "source": [
    "bike_df_model_ready = bikes_hour_df.copy()\n",
    "\n",
    "outcome = 'cnt'\n",
    "excludes = ['instant', 'dteday', outcome]\n",
    "features = [feat for feat in list(bike_df_model_ready) if feat not in excludes]\n",
    "\n",
    "# features = []\n",
    "# for feat in list(bike_df_model_ready):\n",
    "#     if feat not in excludes:\n",
    "#         features.append(feat)\n",
    "print(features)\n"
   ]
  },
  {
   "cell_type": "code",
   "execution_count": 19,
   "id": "56c234c5",
   "metadata": {},
   "outputs": [
    {
     "data": {
      "text/plain": [
       "array([459.79784454, 209.99408496,  60.25240658, 385.05143146,\n",
       "       -14.05311475])"
      ]
     },
     "execution_count": 19,
     "metadata": {},
     "output_type": "execute_result"
    }
   ],
   "source": [
    "x_train, x_test, y_train, y_test = train_test_split(bike_df_model_ready[features],\n",
    "                                                    bike_df_model_ready[outcome],\n",
    "                                                    test_size=0.3,\n",
    "                                                    random_state=42)\n",
    "\n",
    "from sklearn import linear_model\n",
    "model_lr = linear_model.LinearRegression()\n",
    "model_lr.fit(x_train, y_train)\n",
    "\n",
    "predictions = model_lr.predict(x_test)\n",
    "\n",
    "predictions[0:5]"
   ]
  },
  {
   "cell_type": "markdown",
   "id": "f593b5a1",
   "metadata": {},
   "source": [
    "### Evaluate the data"
   ]
  },
  {
   "cell_type": "code",
   "execution_count": 20,
   "id": "24e3e173",
   "metadata": {},
   "outputs": [
    {
     "data": {
      "text/plain": [
       "array([425,  88,   4, 526,  13])"
      ]
     },
     "execution_count": 20,
     "metadata": {},
     "output_type": "execute_result"
    }
   ],
   "source": [
    "y_test.values[0:5]"
   ]
  },
  {
   "cell_type": "code",
   "execution_count": 21,
   "id": "4b5873a9",
   "metadata": {},
   "outputs": [
    {
     "name": "stdout",
     "output_type": "stream",
     "text": [
      "Root Mean Squared Error: 139.31\n"
     ]
    }
   ],
   "source": [
    "error = sqrt(mean_squared_error(y_test, predictions))\n",
    "print('Root Mean Squared Error:', round(error, 2))"
   ]
  },
  {
   "cell_type": "markdown",
   "id": "3f9eeb5e",
   "metadata": {},
   "source": [
    "# Example of using the model"
   ]
  },
  {
   "cell_type": "code",
   "execution_count": 22,
   "id": "eccd10ba",
   "metadata": {},
   "outputs": [
    {
     "data": {
      "text/plain": [
       "season         3.000\n",
       "yr             1.000\n",
       "mnth           6.000\n",
       "hr            19.000\n",
       "holiday        0.000\n",
       "weekday        6.000\n",
       "workingday     0.000\n",
       "weathersit     1.000\n",
       "temp           0.800\n",
       "hum            0.270\n",
       "windspeed      0.194\n",
       "Name: 12830, dtype: float64"
      ]
     },
     "execution_count": 22,
     "metadata": {},
     "output_type": "execute_result"
    }
   ],
   "source": [
    "today = x_test.iloc[0]\n",
    "today\n",
    " "
   ]
  },
  {
   "cell_type": "code",
   "execution_count": 23,
   "id": "dbd01d22",
   "metadata": {},
   "outputs": [
    {
     "name": "stdout",
     "output_type": "stream",
     "text": [
      "Prediction for first recod in test set: 459.8\n"
     ]
    }
   ],
   "source": [
    "prediction_for_today = model_lr.predict([today])[0]\n",
    "print('Prediction for first recod in test set:', round(prediction_for_today, 2))"
   ]
  },
  {
   "cell_type": "markdown",
   "id": "ae739f4f",
   "metadata": {},
   "source": [
    "# Use Polynomials to Improve Results"
   ]
  },
  {
   "cell_type": "code",
   "execution_count": 24,
   "id": "ed8abb31",
   "metadata": {},
   "outputs": [],
   "source": [
    "from sklearn.preprocessing import PolynomialFeatures\n",
    "poly = PolynomialFeatures(degree=2)\n",
    "x_train_poly = poly.fit_transform(x_train)\n",
    "x_test_poly = poly.fit_transform(x_test)\n"
   ]
  },
  {
   "cell_type": "code",
   "execution_count": 25,
   "id": "b672b5bb",
   "metadata": {},
   "outputs": [
    {
     "data": {
      "text/html": [
       "<div>\n",
       "<style scoped>\n",
       "    .dataframe tbody tr th:only-of-type {\n",
       "        vertical-align: middle;\n",
       "    }\n",
       "\n",
       "    .dataframe tbody tr th {\n",
       "        vertical-align: top;\n",
       "    }\n",
       "\n",
       "    .dataframe thead th {\n",
       "        text-align: right;\n",
       "    }\n",
       "</style>\n",
       "<table border=\"1\" class=\"dataframe\">\n",
       "  <thead>\n",
       "    <tr style=\"text-align: right;\">\n",
       "      <th></th>\n",
       "      <th>season</th>\n",
       "      <th>yr</th>\n",
       "      <th>mnth</th>\n",
       "      <th>hr</th>\n",
       "      <th>holiday</th>\n",
       "      <th>weekday</th>\n",
       "      <th>workingday</th>\n",
       "      <th>weathersit</th>\n",
       "      <th>temp</th>\n",
       "      <th>hum</th>\n",
       "      <th>windspeed</th>\n",
       "    </tr>\n",
       "  </thead>\n",
       "  <tbody>\n",
       "    <tr>\n",
       "      <th>11229</th>\n",
       "      <td>2</td>\n",
       "      <td>1</td>\n",
       "      <td>4</td>\n",
       "      <td>2</td>\n",
       "      <td>0</td>\n",
       "      <td>3</td>\n",
       "      <td>1</td>\n",
       "      <td>2</td>\n",
       "      <td>0.50</td>\n",
       "      <td>0.42</td>\n",
       "      <td>0.1940</td>\n",
       "    </tr>\n",
       "    <tr>\n",
       "      <th>6334</th>\n",
       "      <td>4</td>\n",
       "      <td>0</td>\n",
       "      <td>9</td>\n",
       "      <td>12</td>\n",
       "      <td>0</td>\n",
       "      <td>1</td>\n",
       "      <td>1</td>\n",
       "      <td>2</td>\n",
       "      <td>0.68</td>\n",
       "      <td>0.79</td>\n",
       "      <td>0.1642</td>\n",
       "    </tr>\n",
       "    <tr>\n",
       "      <th>11060</th>\n",
       "      <td>2</td>\n",
       "      <td>1</td>\n",
       "      <td>4</td>\n",
       "      <td>0</td>\n",
       "      <td>0</td>\n",
       "      <td>3</td>\n",
       "      <td>1</td>\n",
       "      <td>1</td>\n",
       "      <td>0.34</td>\n",
       "      <td>0.36</td>\n",
       "      <td>0.4179</td>\n",
       "    </tr>\n",
       "    <tr>\n",
       "      <th>12346</th>\n",
       "      <td>2</td>\n",
       "      <td>1</td>\n",
       "      <td>6</td>\n",
       "      <td>15</td>\n",
       "      <td>0</td>\n",
       "      <td>0</td>\n",
       "      <td>0</td>\n",
       "      <td>1</td>\n",
       "      <td>0.70</td>\n",
       "      <td>0.34</td>\n",
       "      <td>0.0000</td>\n",
       "    </tr>\n",
       "    <tr>\n",
       "      <th>15437</th>\n",
       "      <td>4</td>\n",
       "      <td>1</td>\n",
       "      <td>10</td>\n",
       "      <td>10</td>\n",
       "      <td>0</td>\n",
       "      <td>3</td>\n",
       "      <td>1</td>\n",
       "      <td>1</td>\n",
       "      <td>0.56</td>\n",
       "      <td>0.52</td>\n",
       "      <td>0.2985</td>\n",
       "    </tr>\n",
       "  </tbody>\n",
       "</table>\n",
       "</div>"
      ],
      "text/plain": [
       "       season  yr  mnth  hr  ...  weathersit  temp   hum  windspeed\n",
       "11229       2   1     4   2  ...           2  0.50  0.42     0.1940\n",
       "6334        4   0     9  12  ...           2  0.68  0.79     0.1642\n",
       "11060       2   1     4   0  ...           1  0.34  0.36     0.4179\n",
       "12346       2   1     6  15  ...           1  0.70  0.34     0.0000\n",
       "15437       4   1    10  10  ...           1  0.56  0.52     0.2985\n",
       "\n",
       "[5 rows x 11 columns]"
      ]
     },
     "execution_count": 25,
     "metadata": {},
     "output_type": "execute_result"
    }
   ],
   "source": [
    "x_train[0:5]"
   ]
  },
  {
   "cell_type": "code",
   "execution_count": 26,
   "id": "51563c34",
   "metadata": {},
   "outputs": [
    {
     "data": {
      "text/plain": [
       "array([[1.0000000e+00, 2.0000000e+00, 1.0000000e+00, 4.0000000e+00,\n",
       "        2.0000000e+00, 0.0000000e+00, 3.0000000e+00, 1.0000000e+00,\n",
       "        2.0000000e+00, 5.0000000e-01, 4.2000000e-01, 1.9400000e-01,\n",
       "        4.0000000e+00, 2.0000000e+00, 8.0000000e+00, 4.0000000e+00,\n",
       "        0.0000000e+00, 6.0000000e+00, 2.0000000e+00, 4.0000000e+00,\n",
       "        1.0000000e+00, 8.4000000e-01, 3.8800000e-01, 1.0000000e+00,\n",
       "        4.0000000e+00, 2.0000000e+00, 0.0000000e+00, 3.0000000e+00,\n",
       "        1.0000000e+00, 2.0000000e+00, 5.0000000e-01, 4.2000000e-01,\n",
       "        1.9400000e-01, 1.6000000e+01, 8.0000000e+00, 0.0000000e+00,\n",
       "        1.2000000e+01, 4.0000000e+00, 8.0000000e+00, 2.0000000e+00,\n",
       "        1.6800000e+00, 7.7600000e-01, 4.0000000e+00, 0.0000000e+00,\n",
       "        6.0000000e+00, 2.0000000e+00, 4.0000000e+00, 1.0000000e+00,\n",
       "        8.4000000e-01, 3.8800000e-01, 0.0000000e+00, 0.0000000e+00,\n",
       "        0.0000000e+00, 0.0000000e+00, 0.0000000e+00, 0.0000000e+00,\n",
       "        0.0000000e+00, 9.0000000e+00, 3.0000000e+00, 6.0000000e+00,\n",
       "        1.5000000e+00, 1.2600000e+00, 5.8200000e-01, 1.0000000e+00,\n",
       "        2.0000000e+00, 5.0000000e-01, 4.2000000e-01, 1.9400000e-01,\n",
       "        4.0000000e+00, 1.0000000e+00, 8.4000000e-01, 3.8800000e-01,\n",
       "        2.5000000e-01, 2.1000000e-01, 9.7000000e-02, 1.7640000e-01,\n",
       "        8.1480000e-02, 3.7636000e-02],\n",
       "       [1.0000000e+00, 4.0000000e+00, 0.0000000e+00, 9.0000000e+00,\n",
       "        1.2000000e+01, 0.0000000e+00, 1.0000000e+00, 1.0000000e+00,\n",
       "        2.0000000e+00, 6.8000000e-01, 7.9000000e-01, 1.6420000e-01,\n",
       "        1.6000000e+01, 0.0000000e+00, 3.6000000e+01, 4.8000000e+01,\n",
       "        0.0000000e+00, 4.0000000e+00, 4.0000000e+00, 8.0000000e+00,\n",
       "        2.7200000e+00, 3.1600000e+00, 6.5680000e-01, 0.0000000e+00,\n",
       "        0.0000000e+00, 0.0000000e+00, 0.0000000e+00, 0.0000000e+00,\n",
       "        0.0000000e+00, 0.0000000e+00, 0.0000000e+00, 0.0000000e+00,\n",
       "        0.0000000e+00, 8.1000000e+01, 1.0800000e+02, 0.0000000e+00,\n",
       "        9.0000000e+00, 9.0000000e+00, 1.8000000e+01, 6.1200000e+00,\n",
       "        7.1100000e+00, 1.4778000e+00, 1.4400000e+02, 0.0000000e+00,\n",
       "        1.2000000e+01, 1.2000000e+01, 2.4000000e+01, 8.1600000e+00,\n",
       "        9.4800000e+00, 1.9704000e+00, 0.0000000e+00, 0.0000000e+00,\n",
       "        0.0000000e+00, 0.0000000e+00, 0.0000000e+00, 0.0000000e+00,\n",
       "        0.0000000e+00, 1.0000000e+00, 1.0000000e+00, 2.0000000e+00,\n",
       "        6.8000000e-01, 7.9000000e-01, 1.6420000e-01, 1.0000000e+00,\n",
       "        2.0000000e+00, 6.8000000e-01, 7.9000000e-01, 1.6420000e-01,\n",
       "        4.0000000e+00, 1.3600000e+00, 1.5800000e+00, 3.2840000e-01,\n",
       "        4.6240000e-01, 5.3720000e-01, 1.1165600e-01, 6.2410000e-01,\n",
       "        1.2971800e-01, 2.6961640e-02],\n",
       "       [1.0000000e+00, 2.0000000e+00, 1.0000000e+00, 4.0000000e+00,\n",
       "        0.0000000e+00, 0.0000000e+00, 3.0000000e+00, 1.0000000e+00,\n",
       "        1.0000000e+00, 3.4000000e-01, 3.6000000e-01, 4.1790000e-01,\n",
       "        4.0000000e+00, 2.0000000e+00, 8.0000000e+00, 0.0000000e+00,\n",
       "        0.0000000e+00, 6.0000000e+00, 2.0000000e+00, 2.0000000e+00,\n",
       "        6.8000000e-01, 7.2000000e-01, 8.3580000e-01, 1.0000000e+00,\n",
       "        4.0000000e+00, 0.0000000e+00, 0.0000000e+00, 3.0000000e+00,\n",
       "        1.0000000e+00, 1.0000000e+00, 3.4000000e-01, 3.6000000e-01,\n",
       "        4.1790000e-01, 1.6000000e+01, 0.0000000e+00, 0.0000000e+00,\n",
       "        1.2000000e+01, 4.0000000e+00, 4.0000000e+00, 1.3600000e+00,\n",
       "        1.4400000e+00, 1.6716000e+00, 0.0000000e+00, 0.0000000e+00,\n",
       "        0.0000000e+00, 0.0000000e+00, 0.0000000e+00, 0.0000000e+00,\n",
       "        0.0000000e+00, 0.0000000e+00, 0.0000000e+00, 0.0000000e+00,\n",
       "        0.0000000e+00, 0.0000000e+00, 0.0000000e+00, 0.0000000e+00,\n",
       "        0.0000000e+00, 9.0000000e+00, 3.0000000e+00, 3.0000000e+00,\n",
       "        1.0200000e+00, 1.0800000e+00, 1.2537000e+00, 1.0000000e+00,\n",
       "        1.0000000e+00, 3.4000000e-01, 3.6000000e-01, 4.1790000e-01,\n",
       "        1.0000000e+00, 3.4000000e-01, 3.6000000e-01, 4.1790000e-01,\n",
       "        1.1560000e-01, 1.2240000e-01, 1.4208600e-01, 1.2960000e-01,\n",
       "        1.5044400e-01, 1.7464041e-01],\n",
       "       [1.0000000e+00, 2.0000000e+00, 1.0000000e+00, 6.0000000e+00,\n",
       "        1.5000000e+01, 0.0000000e+00, 0.0000000e+00, 0.0000000e+00,\n",
       "        1.0000000e+00, 7.0000000e-01, 3.4000000e-01, 0.0000000e+00,\n",
       "        4.0000000e+00, 2.0000000e+00, 1.2000000e+01, 3.0000000e+01,\n",
       "        0.0000000e+00, 0.0000000e+00, 0.0000000e+00, 2.0000000e+00,\n",
       "        1.4000000e+00, 6.8000000e-01, 0.0000000e+00, 1.0000000e+00,\n",
       "        6.0000000e+00, 1.5000000e+01, 0.0000000e+00, 0.0000000e+00,\n",
       "        0.0000000e+00, 1.0000000e+00, 7.0000000e-01, 3.4000000e-01,\n",
       "        0.0000000e+00, 3.6000000e+01, 9.0000000e+01, 0.0000000e+00,\n",
       "        0.0000000e+00, 0.0000000e+00, 6.0000000e+00, 4.2000000e+00,\n",
       "        2.0400000e+00, 0.0000000e+00, 2.2500000e+02, 0.0000000e+00,\n",
       "        0.0000000e+00, 0.0000000e+00, 1.5000000e+01, 1.0500000e+01,\n",
       "        5.1000000e+00, 0.0000000e+00, 0.0000000e+00, 0.0000000e+00,\n",
       "        0.0000000e+00, 0.0000000e+00, 0.0000000e+00, 0.0000000e+00,\n",
       "        0.0000000e+00, 0.0000000e+00, 0.0000000e+00, 0.0000000e+00,\n",
       "        0.0000000e+00, 0.0000000e+00, 0.0000000e+00, 0.0000000e+00,\n",
       "        0.0000000e+00, 0.0000000e+00, 0.0000000e+00, 0.0000000e+00,\n",
       "        1.0000000e+00, 7.0000000e-01, 3.4000000e-01, 0.0000000e+00,\n",
       "        4.9000000e-01, 2.3800000e-01, 0.0000000e+00, 1.1560000e-01,\n",
       "        0.0000000e+00, 0.0000000e+00],\n",
       "       [1.0000000e+00, 4.0000000e+00, 1.0000000e+00, 1.0000000e+01,\n",
       "        1.0000000e+01, 0.0000000e+00, 3.0000000e+00, 1.0000000e+00,\n",
       "        1.0000000e+00, 5.6000000e-01, 5.2000000e-01, 2.9850000e-01,\n",
       "        1.6000000e+01, 4.0000000e+00, 4.0000000e+01, 4.0000000e+01,\n",
       "        0.0000000e+00, 1.2000000e+01, 4.0000000e+00, 4.0000000e+00,\n",
       "        2.2400000e+00, 2.0800000e+00, 1.1940000e+00, 1.0000000e+00,\n",
       "        1.0000000e+01, 1.0000000e+01, 0.0000000e+00, 3.0000000e+00,\n",
       "        1.0000000e+00, 1.0000000e+00, 5.6000000e-01, 5.2000000e-01,\n",
       "        2.9850000e-01, 1.0000000e+02, 1.0000000e+02, 0.0000000e+00,\n",
       "        3.0000000e+01, 1.0000000e+01, 1.0000000e+01, 5.6000000e+00,\n",
       "        5.2000000e+00, 2.9850000e+00, 1.0000000e+02, 0.0000000e+00,\n",
       "        3.0000000e+01, 1.0000000e+01, 1.0000000e+01, 5.6000000e+00,\n",
       "        5.2000000e+00, 2.9850000e+00, 0.0000000e+00, 0.0000000e+00,\n",
       "        0.0000000e+00, 0.0000000e+00, 0.0000000e+00, 0.0000000e+00,\n",
       "        0.0000000e+00, 9.0000000e+00, 3.0000000e+00, 3.0000000e+00,\n",
       "        1.6800000e+00, 1.5600000e+00, 8.9550000e-01, 1.0000000e+00,\n",
       "        1.0000000e+00, 5.6000000e-01, 5.2000000e-01, 2.9850000e-01,\n",
       "        1.0000000e+00, 5.6000000e-01, 5.2000000e-01, 2.9850000e-01,\n",
       "        3.1360000e-01, 2.9120000e-01, 1.6716000e-01, 2.7040000e-01,\n",
       "        1.5522000e-01, 8.9102250e-02]])"
      ]
     },
     "execution_count": 26,
     "metadata": {},
     "output_type": "execute_result"
    }
   ],
   "source": [
    "x_train_poly[0:5]"
   ]
  },
  {
   "cell_type": "code",
   "execution_count": 27,
   "id": "e45dc905",
   "metadata": {},
   "outputs": [
    {
     "data": {
      "text/plain": [
       "array([556.03379284,  95.42885348,  21.62867677, 423.91275803,\n",
       "       -95.24324151])"
      ]
     },
     "execution_count": 27,
     "metadata": {},
     "output_type": "execute_result"
    }
   ],
   "source": [
    "model_lr_poly = linear_model.LinearRegression()\n",
    "model_lr_poly.fit(x_train_poly, y_train)\n",
    "\n",
    "predictions_poly = model_lr_poly.predict(x_test_poly)\n",
    "\n",
    "predictions_poly[0:5]"
   ]
  },
  {
   "cell_type": "code",
   "execution_count": 28,
   "id": "846c37ba",
   "metadata": {},
   "outputs": [
    {
     "name": "stdout",
     "output_type": "stream",
     "text": [
      "Root Mean squared error with PolynomialFeatures set to 2 degrees: 120.48\n"
     ]
    }
   ],
   "source": [
    "print(\"Root Mean squared error with PolynomialFeatures set to 2 degrees: %.2f\" % sqrt(mean_squared_error(y_test, predictions_poly)))"
   ]
  },
  {
   "cell_type": "code",
   "execution_count": 29,
   "id": "83d962a6",
   "metadata": {},
   "outputs": [],
   "source": [
    "def prepare_data_for_model(raw_dataframe,\n",
    "                           target_columns,\n",
    "                           drop_first = False,\n",
    "                           make_na_col = True):\n",
    "    # dummy all categorical fields\n",
    "    dataframe_dummy = pd.get_dummies(raw_dataframe, columns=target_columns, drop_first=drop_first,\n",
    "dummy_na=make_na_col)\n",
    "    return (dataframe_dummy)"
   ]
  },
  {
   "cell_type": "code",
   "execution_count": 30,
   "id": "f6b094f4",
   "metadata": {},
   "outputs": [],
   "source": [
    "bike_df_model_ready_with_dummies = prepare_data_for_model(bike_df_model_ready,\n",
    "           target_columns = ['season', 'weekday', 'weathersit'], drop_first = True)"
   ]
  },
  {
   "cell_type": "code",
   "execution_count": 31,
   "id": "3b204690",
   "metadata": {},
   "outputs": [
    {
     "data": {
      "text/html": [
       "<div>\n",
       "<style scoped>\n",
       "    .dataframe tbody tr th:only-of-type {\n",
       "        vertical-align: middle;\n",
       "    }\n",
       "\n",
       "    .dataframe tbody tr th {\n",
       "        vertical-align: top;\n",
       "    }\n",
       "\n",
       "    .dataframe thead th {\n",
       "        text-align: right;\n",
       "    }\n",
       "</style>\n",
       "<table border=\"1\" class=\"dataframe\">\n",
       "  <thead>\n",
       "    <tr style=\"text-align: right;\">\n",
       "      <th></th>\n",
       "      <th>instant</th>\n",
       "      <th>dteday</th>\n",
       "      <th>season</th>\n",
       "      <th>yr</th>\n",
       "      <th>mnth</th>\n",
       "      <th>hr</th>\n",
       "      <th>holiday</th>\n",
       "      <th>weekday</th>\n",
       "      <th>workingday</th>\n",
       "      <th>weathersit</th>\n",
       "      <th>temp</th>\n",
       "      <th>hum</th>\n",
       "      <th>windspeed</th>\n",
       "      <th>cnt</th>\n",
       "    </tr>\n",
       "  </thead>\n",
       "  <tbody>\n",
       "    <tr>\n",
       "      <th>0</th>\n",
       "      <td>1</td>\n",
       "      <td>2011-01-01</td>\n",
       "      <td>1</td>\n",
       "      <td>0</td>\n",
       "      <td>1</td>\n",
       "      <td>0</td>\n",
       "      <td>0</td>\n",
       "      <td>6</td>\n",
       "      <td>0</td>\n",
       "      <td>1</td>\n",
       "      <td>0.24</td>\n",
       "      <td>0.81</td>\n",
       "      <td>0.0</td>\n",
       "      <td>16</td>\n",
       "    </tr>\n",
       "    <tr>\n",
       "      <th>1</th>\n",
       "      <td>2</td>\n",
       "      <td>2011-01-01</td>\n",
       "      <td>1</td>\n",
       "      <td>0</td>\n",
       "      <td>1</td>\n",
       "      <td>1</td>\n",
       "      <td>0</td>\n",
       "      <td>6</td>\n",
       "      <td>0</td>\n",
       "      <td>1</td>\n",
       "      <td>0.22</td>\n",
       "      <td>0.80</td>\n",
       "      <td>0.0</td>\n",
       "      <td>40</td>\n",
       "    </tr>\n",
       "    <tr>\n",
       "      <th>2</th>\n",
       "      <td>3</td>\n",
       "      <td>2011-01-01</td>\n",
       "      <td>1</td>\n",
       "      <td>0</td>\n",
       "      <td>1</td>\n",
       "      <td>2</td>\n",
       "      <td>0</td>\n",
       "      <td>6</td>\n",
       "      <td>0</td>\n",
       "      <td>1</td>\n",
       "      <td>0.22</td>\n",
       "      <td>0.80</td>\n",
       "      <td>0.0</td>\n",
       "      <td>32</td>\n",
       "    </tr>\n",
       "    <tr>\n",
       "      <th>3</th>\n",
       "      <td>4</td>\n",
       "      <td>2011-01-01</td>\n",
       "      <td>1</td>\n",
       "      <td>0</td>\n",
       "      <td>1</td>\n",
       "      <td>3</td>\n",
       "      <td>0</td>\n",
       "      <td>6</td>\n",
       "      <td>0</td>\n",
       "      <td>1</td>\n",
       "      <td>0.24</td>\n",
       "      <td>0.75</td>\n",
       "      <td>0.0</td>\n",
       "      <td>13</td>\n",
       "    </tr>\n",
       "    <tr>\n",
       "      <th>4</th>\n",
       "      <td>5</td>\n",
       "      <td>2011-01-01</td>\n",
       "      <td>1</td>\n",
       "      <td>0</td>\n",
       "      <td>1</td>\n",
       "      <td>4</td>\n",
       "      <td>0</td>\n",
       "      <td>6</td>\n",
       "      <td>0</td>\n",
       "      <td>1</td>\n",
       "      <td>0.24</td>\n",
       "      <td>0.75</td>\n",
       "      <td>0.0</td>\n",
       "      <td>1</td>\n",
       "    </tr>\n",
       "  </tbody>\n",
       "</table>\n",
       "</div>"
      ],
      "text/plain": [
       "   instant      dteday  season  yr  ...  temp   hum  windspeed  cnt\n",
       "0        1  2011-01-01       1   0  ...  0.24  0.81        0.0   16\n",
       "1        2  2011-01-01       1   0  ...  0.22  0.80        0.0   40\n",
       "2        3  2011-01-01       1   0  ...  0.22  0.80        0.0   32\n",
       "3        4  2011-01-01       1   0  ...  0.24  0.75        0.0   13\n",
       "4        5  2011-01-01       1   0  ...  0.24  0.75        0.0    1\n",
       "\n",
       "[5 rows x 14 columns]"
      ]
     },
     "execution_count": 31,
     "metadata": {},
     "output_type": "execute_result"
    }
   ],
   "source": [
    "bike_df_model_ready[0:5]"
   ]
  },
  {
   "cell_type": "code",
   "execution_count": 32,
   "id": "88a03287",
   "metadata": {},
   "outputs": [
    {
     "data": {
      "text/html": [
       "<div>\n",
       "<style scoped>\n",
       "    .dataframe tbody tr th:only-of-type {\n",
       "        vertical-align: middle;\n",
       "    }\n",
       "\n",
       "    .dataframe tbody tr th {\n",
       "        vertical-align: top;\n",
       "    }\n",
       "\n",
       "    .dataframe thead th {\n",
       "        text-align: right;\n",
       "    }\n",
       "</style>\n",
       "<table border=\"1\" class=\"dataframe\">\n",
       "  <thead>\n",
       "    <tr style=\"text-align: right;\">\n",
       "      <th></th>\n",
       "      <th>instant</th>\n",
       "      <th>dteday</th>\n",
       "      <th>yr</th>\n",
       "      <th>mnth</th>\n",
       "      <th>hr</th>\n",
       "      <th>holiday</th>\n",
       "      <th>workingday</th>\n",
       "      <th>temp</th>\n",
       "      <th>hum</th>\n",
       "      <th>windspeed</th>\n",
       "      <th>cnt</th>\n",
       "      <th>season_2.0</th>\n",
       "      <th>season_3.0</th>\n",
       "      <th>season_4.0</th>\n",
       "      <th>season_nan</th>\n",
       "      <th>weekday_1.0</th>\n",
       "      <th>weekday_2.0</th>\n",
       "      <th>weekday_3.0</th>\n",
       "      <th>weekday_4.0</th>\n",
       "      <th>weekday_5.0</th>\n",
       "      <th>weekday_6.0</th>\n",
       "      <th>weekday_nan</th>\n",
       "      <th>weathersit_2.0</th>\n",
       "      <th>weathersit_3.0</th>\n",
       "      <th>weathersit_4.0</th>\n",
       "      <th>weathersit_nan</th>\n",
       "    </tr>\n",
       "  </thead>\n",
       "  <tbody>\n",
       "    <tr>\n",
       "      <th>0</th>\n",
       "      <td>1</td>\n",
       "      <td>2011-01-01</td>\n",
       "      <td>0</td>\n",
       "      <td>1</td>\n",
       "      <td>0</td>\n",
       "      <td>0</td>\n",
       "      <td>0</td>\n",
       "      <td>0.24</td>\n",
       "      <td>0.81</td>\n",
       "      <td>0.0</td>\n",
       "      <td>16</td>\n",
       "      <td>False</td>\n",
       "      <td>False</td>\n",
       "      <td>False</td>\n",
       "      <td>False</td>\n",
       "      <td>False</td>\n",
       "      <td>False</td>\n",
       "      <td>False</td>\n",
       "      <td>False</td>\n",
       "      <td>False</td>\n",
       "      <td>True</td>\n",
       "      <td>False</td>\n",
       "      <td>False</td>\n",
       "      <td>False</td>\n",
       "      <td>False</td>\n",
       "      <td>False</td>\n",
       "    </tr>\n",
       "    <tr>\n",
       "      <th>1</th>\n",
       "      <td>2</td>\n",
       "      <td>2011-01-01</td>\n",
       "      <td>0</td>\n",
       "      <td>1</td>\n",
       "      <td>1</td>\n",
       "      <td>0</td>\n",
       "      <td>0</td>\n",
       "      <td>0.22</td>\n",
       "      <td>0.80</td>\n",
       "      <td>0.0</td>\n",
       "      <td>40</td>\n",
       "      <td>False</td>\n",
       "      <td>False</td>\n",
       "      <td>False</td>\n",
       "      <td>False</td>\n",
       "      <td>False</td>\n",
       "      <td>False</td>\n",
       "      <td>False</td>\n",
       "      <td>False</td>\n",
       "      <td>False</td>\n",
       "      <td>True</td>\n",
       "      <td>False</td>\n",
       "      <td>False</td>\n",
       "      <td>False</td>\n",
       "      <td>False</td>\n",
       "      <td>False</td>\n",
       "    </tr>\n",
       "    <tr>\n",
       "      <th>2</th>\n",
       "      <td>3</td>\n",
       "      <td>2011-01-01</td>\n",
       "      <td>0</td>\n",
       "      <td>1</td>\n",
       "      <td>2</td>\n",
       "      <td>0</td>\n",
       "      <td>0</td>\n",
       "      <td>0.22</td>\n",
       "      <td>0.80</td>\n",
       "      <td>0.0</td>\n",
       "      <td>32</td>\n",
       "      <td>False</td>\n",
       "      <td>False</td>\n",
       "      <td>False</td>\n",
       "      <td>False</td>\n",
       "      <td>False</td>\n",
       "      <td>False</td>\n",
       "      <td>False</td>\n",
       "      <td>False</td>\n",
       "      <td>False</td>\n",
       "      <td>True</td>\n",
       "      <td>False</td>\n",
       "      <td>False</td>\n",
       "      <td>False</td>\n",
       "      <td>False</td>\n",
       "      <td>False</td>\n",
       "    </tr>\n",
       "    <tr>\n",
       "      <th>3</th>\n",
       "      <td>4</td>\n",
       "      <td>2011-01-01</td>\n",
       "      <td>0</td>\n",
       "      <td>1</td>\n",
       "      <td>3</td>\n",
       "      <td>0</td>\n",
       "      <td>0</td>\n",
       "      <td>0.24</td>\n",
       "      <td>0.75</td>\n",
       "      <td>0.0</td>\n",
       "      <td>13</td>\n",
       "      <td>False</td>\n",
       "      <td>False</td>\n",
       "      <td>False</td>\n",
       "      <td>False</td>\n",
       "      <td>False</td>\n",
       "      <td>False</td>\n",
       "      <td>False</td>\n",
       "      <td>False</td>\n",
       "      <td>False</td>\n",
       "      <td>True</td>\n",
       "      <td>False</td>\n",
       "      <td>False</td>\n",
       "      <td>False</td>\n",
       "      <td>False</td>\n",
       "      <td>False</td>\n",
       "    </tr>\n",
       "    <tr>\n",
       "      <th>4</th>\n",
       "      <td>5</td>\n",
       "      <td>2011-01-01</td>\n",
       "      <td>0</td>\n",
       "      <td>1</td>\n",
       "      <td>4</td>\n",
       "      <td>0</td>\n",
       "      <td>0</td>\n",
       "      <td>0.24</td>\n",
       "      <td>0.75</td>\n",
       "      <td>0.0</td>\n",
       "      <td>1</td>\n",
       "      <td>False</td>\n",
       "      <td>False</td>\n",
       "      <td>False</td>\n",
       "      <td>False</td>\n",
       "      <td>False</td>\n",
       "      <td>False</td>\n",
       "      <td>False</td>\n",
       "      <td>False</td>\n",
       "      <td>False</td>\n",
       "      <td>True</td>\n",
       "      <td>False</td>\n",
       "      <td>False</td>\n",
       "      <td>False</td>\n",
       "      <td>False</td>\n",
       "      <td>False</td>\n",
       "    </tr>\n",
       "  </tbody>\n",
       "</table>\n",
       "</div>"
      ],
      "text/plain": [
       "   instant      dteday  yr  ...  weathersit_3.0  weathersit_4.0  weathersit_nan\n",
       "0        1  2011-01-01   0  ...           False           False           False\n",
       "1        2  2011-01-01   0  ...           False           False           False\n",
       "2        3  2011-01-01   0  ...           False           False           False\n",
       "3        4  2011-01-01   0  ...           False           False           False\n",
       "4        5  2011-01-01   0  ...           False           False           False\n",
       "\n",
       "[5 rows x 26 columns]"
      ]
     },
     "execution_count": 32,
     "metadata": {},
     "output_type": "execute_result"
    }
   ],
   "source": [
    "bike_df_model_ready_with_dummies[0:5]"
   ]
  },
  {
   "cell_type": "code",
   "execution_count": 34,
   "id": "ca18fc24",
   "metadata": {},
   "outputs": [
    {
     "name": "stdout",
     "output_type": "stream",
     "text": [
      "Coefficients: \n",
      " [[ 8.15107092e+01 -3.21006113e-01  7.32438675e+00 -2.17983603e+01\n",
      "   1.25204473e+01  3.52310117e+02 -1.99407687e+02  3.36677045e+01\n",
      "   2.56080978e+01  1.32103857e+00  7.21009360e+01  4.97379915e-14\n",
      "  -4.36846089e+00  5.91228633e-01 -2.66474469e+00 -3.98667404e+00\n",
      "   1.15073805e+00  1.22633344e+01  2.13162821e-14  9.18816109e+00\n",
      "  -2.47479915e+01  2.78551408e+01  0.00000000e+00]]\n",
      "Root Mean squared error: 139.46\n"
     ]
    }
   ],
   "source": [
    "def prepare_data_for_model(raw_dataframe, \n",
    "                           target_columns, \n",
    "                           drop_first = False, \n",
    "                           make_na_col = True):\n",
    "    \n",
    "    # dummy all categorical fields \n",
    "    dataframe_dummy = pd.get_dummies(raw_dataframe, columns=target_columns, \n",
    "                                     drop_first=drop_first, \n",
    "                                     dummy_na=make_na_col)\n",
    "    return (dataframe_dummy)\n",
    "\n",
    "# make a copy for editing without affecting original\n",
    "bike_df_model_ready = bikes_hour_df.copy()\n",
    "bike_df_model_ready = bike_df_model_ready.sort_values('instant')\n",
    "\n",
    "# dummify categorical columns\n",
    "bike_df_model_ready = prepare_data_for_model(bike_df_model_ready, \n",
    "                                            target_columns = ['season', \n",
    "                                                              'weekday', \n",
    "                                                              'weathersit'],\n",
    "                                            drop_first = True)\n",
    "\n",
    "# remove the nan colums in dataframe as most are outcome variable and we can't use them\n",
    "bike_df_model_ready = bike_df_model_ready.dropna() \n",
    "\n",
    "\n",
    "outcome = 'cnt'\n",
    "features = [feat for feat in list(bike_df_model_ready) if feat not in [outcome, 'instant',  'dteday']]  \n",
    "\n",
    " \n",
    "X_train, X_test, y_train, y_test = train_test_split(bike_df_model_ready[features], \n",
    "                                                 bike_df_model_ready[['cnt']], \n",
    "                                                 test_size=0.5, \n",
    "                                                 random_state=42)\n",
    "from sklearn import linear_model\n",
    "model_lr = linear_model.LinearRegression()\n",
    " \n",
    "# train the model on training set\n",
    "model_lr.fit(X_train, y_train)\n",
    "\n",
    "# make predictions using the testing set\n",
    "predictions = model_lr.predict(X_test)\n",
    " \n",
    "# print coefficients as this is what our web application will use in the end\n",
    "print('Coefficients: \\n', model_lr.coef_)\n",
    "\n",
    "# root mean squared error\n",
    "print(\"Root Mean squared error: %.2f\" % sqrt(mean_squared_error(y_test, predictions)))"
   ]
  },
  {
   "cell_type": "code",
   "execution_count": 35,
   "id": "a97d86e1",
   "metadata": {},
   "outputs": [
    {
     "name": "stdout",
     "output_type": "stream",
     "text": [
      "Root Mean squared error: 72.58\n"
     ]
    }
   ],
   "source": [
    "# simple approach - make a copy for editing without affecting original\n",
    "bike_df_model_ready = bikes_hour_df.copy()\n",
    "bike_df_model_ready = bike_df_model_ready.sort_values('instant')\n",
    "\n",
    "# dummify categorical columns\n",
    "bike_df_model_ready = prepare_data_for_model(bike_df_model_ready, \n",
    "                                             target_columns = ['season', 'weekday', 'weathersit'])\n",
    "list(bike_df_model_ready.head(1).values)\n",
    "\n",
    "# remove the nan colums in dataframe as most are outcome variable and we can't use them\n",
    "bike_df_model_ready = bike_df_model_ready.dropna() \n",
    "\n",
    "\n",
    "outcome = 'cnt'\n",
    "features = [feat for feat in list(bike_df_model_ready) if feat not in [outcome, 'instant', 'dteday']]  \n",
    "\n",
    " \n",
    "X_train, X_test, y_train, y_test = train_test_split(bike_df_model_ready[features], \n",
    "                                                 bike_df_model_ready[['cnt']], \n",
    "                                                 test_size=0.5, \n",
    "                                                 random_state=42)\n",
    " \n",
    "from sklearn.ensemble import GradientBoostingRegressor\n",
    "model_gbr = GradientBoostingRegressor()\n",
    "model_gbr.fit(X_train, np.ravel(y_train))\n",
    "predictions = model_gbr.predict(X_test)\n",
    "\n",
    "# root mean squared error\n",
    "print(\"Root Mean squared error: %.2f\" % sqrt(mean_squared_error(y_test, predictions)))\n",
    " "
   ]
  },
  {
   "cell_type": "code",
   "execution_count": 36,
   "id": "69e91530",
   "metadata": {},
   "outputs": [
    {
     "data": {
      "text/html": [
       "<div>\n",
       "<style scoped>\n",
       "    .dataframe tbody tr th:only-of-type {\n",
       "        vertical-align: middle;\n",
       "    }\n",
       "\n",
       "    .dataframe tbody tr th {\n",
       "        vertical-align: top;\n",
       "    }\n",
       "\n",
       "    .dataframe thead th {\n",
       "        text-align: right;\n",
       "    }\n",
       "</style>\n",
       "<table border=\"1\" class=\"dataframe\">\n",
       "  <thead>\n",
       "    <tr style=\"text-align: right;\">\n",
       "      <th></th>\n",
       "      <th></th>\n",
       "      <th>cnt</th>\n",
       "    </tr>\n",
       "    <tr>\n",
       "      <th>dteday</th>\n",
       "      <th>hr</th>\n",
       "      <th></th>\n",
       "    </tr>\n",
       "  </thead>\n",
       "  <tbody>\n",
       "    <tr>\n",
       "      <th rowspan=\"5\" valign=\"top\">2011-01-01</th>\n",
       "      <th>0</th>\n",
       "      <td>16</td>\n",
       "    </tr>\n",
       "    <tr>\n",
       "      <th>1</th>\n",
       "      <td>40</td>\n",
       "    </tr>\n",
       "    <tr>\n",
       "      <th>2</th>\n",
       "      <td>32</td>\n",
       "    </tr>\n",
       "    <tr>\n",
       "      <th>3</th>\n",
       "      <td>13</td>\n",
       "    </tr>\n",
       "    <tr>\n",
       "      <th>4</th>\n",
       "      <td>1</td>\n",
       "    </tr>\n",
       "  </tbody>\n",
       "</table>\n",
       "</div>"
      ],
      "text/plain": [
       "               cnt\n",
       "dteday     hr     \n",
       "2011-01-01 0    16\n",
       "           1    40\n",
       "           2    32\n",
       "           3    13\n",
       "           4     1"
      ]
     },
     "execution_count": 36,
     "metadata": {},
     "output_type": "execute_result"
    }
   ],
   "source": [
    "bikes_hour_df_shift = bikes_hour_df[['dteday','hr','cnt']].groupby(['dteday','hr']).sum()\n",
    "bikes_hour_df_shift.head()"
   ]
  },
  {
   "cell_type": "code",
   "execution_count": 37,
   "id": "92ebf6ac",
   "metadata": {},
   "outputs": [],
   "source": [
    "# prior hours\n",
    "bikes_hour_df_shift = bikes_hour_df[['dteday','hr','cnt']].groupby(['dteday','hr']).sum().reset_index()\n",
    "bikes_hour_df_shift.sort_values(['dteday','hr'])\n",
    "# shift the count of the last two hours forward so the new count can take in consideration how the last two hours went\n",
    "bikes_hour_df_shift['sum_hr_shift_1'] = bikes_hour_df_shift.cnt.shift(+1)\n",
    "bikes_hour_df_shift['sum_hr_shift_2'] = bikes_hour_df_shift.cnt.shift(+2)\n",
    "# merge the date and hour counts back to bike_df_model_ready\n",
    "bike_df_model_ready =  pd.merge(bikes_hour_df, bikes_hour_df_shift[['dteday', 'hr', 'sum_hr_shift_1', 'sum_hr_shift_2']], how=\"inner\", on = ['dteday', 'hr'])\n"
   ]
  },
  {
   "cell_type": "code",
   "execution_count": 38,
   "id": "6ea25a9a",
   "metadata": {},
   "outputs": [
    {
     "data": {
      "text/html": [
       "<div>\n",
       "<style scoped>\n",
       "    .dataframe tbody tr th:only-of-type {\n",
       "        vertical-align: middle;\n",
       "    }\n",
       "\n",
       "    .dataframe tbody tr th {\n",
       "        vertical-align: top;\n",
       "    }\n",
       "\n",
       "    .dataframe thead th {\n",
       "        text-align: right;\n",
       "    }\n",
       "</style>\n",
       "<table border=\"1\" class=\"dataframe\">\n",
       "  <thead>\n",
       "    <tr style=\"text-align: right;\">\n",
       "      <th></th>\n",
       "      <th>instant</th>\n",
       "      <th>dteday</th>\n",
       "      <th>season</th>\n",
       "      <th>yr</th>\n",
       "      <th>mnth</th>\n",
       "      <th>hr</th>\n",
       "      <th>holiday</th>\n",
       "      <th>weekday</th>\n",
       "      <th>workingday</th>\n",
       "      <th>weathersit</th>\n",
       "      <th>temp</th>\n",
       "      <th>hum</th>\n",
       "      <th>windspeed</th>\n",
       "      <th>cnt</th>\n",
       "      <th>sum_hr_shift_1</th>\n",
       "      <th>sum_hr_shift_2</th>\n",
       "    </tr>\n",
       "  </thead>\n",
       "  <tbody>\n",
       "    <tr>\n",
       "      <th>0</th>\n",
       "      <td>1</td>\n",
       "      <td>2011-01-01</td>\n",
       "      <td>1</td>\n",
       "      <td>0</td>\n",
       "      <td>1</td>\n",
       "      <td>0</td>\n",
       "      <td>0</td>\n",
       "      <td>6</td>\n",
       "      <td>0</td>\n",
       "      <td>1</td>\n",
       "      <td>0.24</td>\n",
       "      <td>0.81</td>\n",
       "      <td>0.0</td>\n",
       "      <td>16</td>\n",
       "      <td>NaN</td>\n",
       "      <td>NaN</td>\n",
       "    </tr>\n",
       "    <tr>\n",
       "      <th>1</th>\n",
       "      <td>2</td>\n",
       "      <td>2011-01-01</td>\n",
       "      <td>1</td>\n",
       "      <td>0</td>\n",
       "      <td>1</td>\n",
       "      <td>1</td>\n",
       "      <td>0</td>\n",
       "      <td>6</td>\n",
       "      <td>0</td>\n",
       "      <td>1</td>\n",
       "      <td>0.22</td>\n",
       "      <td>0.80</td>\n",
       "      <td>0.0</td>\n",
       "      <td>40</td>\n",
       "      <td>16.0</td>\n",
       "      <td>NaN</td>\n",
       "    </tr>\n",
       "    <tr>\n",
       "      <th>2</th>\n",
       "      <td>3</td>\n",
       "      <td>2011-01-01</td>\n",
       "      <td>1</td>\n",
       "      <td>0</td>\n",
       "      <td>1</td>\n",
       "      <td>2</td>\n",
       "      <td>0</td>\n",
       "      <td>6</td>\n",
       "      <td>0</td>\n",
       "      <td>1</td>\n",
       "      <td>0.22</td>\n",
       "      <td>0.80</td>\n",
       "      <td>0.0</td>\n",
       "      <td>32</td>\n",
       "      <td>40.0</td>\n",
       "      <td>16.0</td>\n",
       "    </tr>\n",
       "    <tr>\n",
       "      <th>3</th>\n",
       "      <td>4</td>\n",
       "      <td>2011-01-01</td>\n",
       "      <td>1</td>\n",
       "      <td>0</td>\n",
       "      <td>1</td>\n",
       "      <td>3</td>\n",
       "      <td>0</td>\n",
       "      <td>6</td>\n",
       "      <td>0</td>\n",
       "      <td>1</td>\n",
       "      <td>0.24</td>\n",
       "      <td>0.75</td>\n",
       "      <td>0.0</td>\n",
       "      <td>13</td>\n",
       "      <td>32.0</td>\n",
       "      <td>40.0</td>\n",
       "    </tr>\n",
       "    <tr>\n",
       "      <th>4</th>\n",
       "      <td>5</td>\n",
       "      <td>2011-01-01</td>\n",
       "      <td>1</td>\n",
       "      <td>0</td>\n",
       "      <td>1</td>\n",
       "      <td>4</td>\n",
       "      <td>0</td>\n",
       "      <td>6</td>\n",
       "      <td>0</td>\n",
       "      <td>1</td>\n",
       "      <td>0.24</td>\n",
       "      <td>0.75</td>\n",
       "      <td>0.0</td>\n",
       "      <td>1</td>\n",
       "      <td>13.0</td>\n",
       "      <td>32.0</td>\n",
       "    </tr>\n",
       "  </tbody>\n",
       "</table>\n",
       "</div>"
      ],
      "text/plain": [
       "   instant      dteday  season  ...  cnt  sum_hr_shift_1  sum_hr_shift_2\n",
       "0        1  2011-01-01       1  ...   16             NaN             NaN\n",
       "1        2  2011-01-01       1  ...   40            16.0             NaN\n",
       "2        3  2011-01-01       1  ...   32            40.0            16.0\n",
       "3        4  2011-01-01       1  ...   13            32.0            40.0\n",
       "4        5  2011-01-01       1  ...    1            13.0            32.0\n",
       "\n",
       "[5 rows x 16 columns]"
      ]
     },
     "execution_count": 38,
     "metadata": {},
     "output_type": "execute_result"
    }
   ],
   "source": [
    "bike_df_model_ready[0:5]"
   ]
  },
  {
   "cell_type": "code",
   "execution_count": 39,
   "id": "1aca6b89",
   "metadata": {},
   "outputs": [
    {
     "name": "stdout",
     "output_type": "stream",
     "text": [
      "Root Mean squared error: 43.22\n"
     ]
    }
   ],
   "source": [
    "# prior hours\n",
    "bikes_hour_df_shift = bikes_hour_df[['dteday','hr','cnt']].groupby(['dteday','hr']).sum().reset_index()\n",
    "bikes_hour_df_shift.sort_values(['dteday','hr'])\n",
    "# shift the count of the last two hours forward so the new count can take in consideratio how the last two hours went \n",
    "bikes_hour_df_shift['sum_hr_shift_1'] = bikes_hour_df_shift.cnt.shift(+1)\n",
    "bikes_hour_df_shift['sum_hr_shift_2'] = bikes_hour_df_shift.cnt.shift(+2)\n",
    "\n",
    "bike_df_model_ready =  pd.merge(bikes_hour_df, bikes_hour_df_shift[['dteday', 'hr', 'sum_hr_shift_1', 'sum_hr_shift_2']], how='inner', on = ['dteday', 'hr'])\n",
    "\n",
    "# drop NAs caused by our shifting fields around\n",
    "bike_df_model_ready = bike_df_model_ready.dropna()\n",
    "\n",
    "outcome = 'cnt'\n",
    "# create a feature list for each modeling - experiment by adding features to the exclusion list\n",
    "features = [feat for feat in list(bike_df_model_ready) if feat not in [outcome, 'instant', 'dteday','casual', 'registered']]  \n",
    "\n",
    "# split data into train and test portions and model\n",
    "X_train, X_test, y_train, y_test = train_test_split(bike_df_model_ready[features], \n",
    "                                                 bike_df_model_ready[['cnt']], \n",
    "                                                 test_size=0.3, random_state=42)\n",
    "\n",
    "from sklearn.ensemble import GradientBoostingRegressor\n",
    "model_gbr = GradientBoostingRegressor()\n",
    "model_gbr.fit(X_train, np.ravel(y_train))\n",
    "predictions = model_gbr.predict(X_test)\n",
    "\n",
    "# root mean squared error\n",
    "print(\"Root Mean squared error: %.2f\" % sqrt(mean_squared_error(y_test, predictions)))"
   ]
  },
  {
   "cell_type": "code",
   "execution_count": 40,
   "id": "7a62e447",
   "metadata": {},
   "outputs": [
    {
     "data": {
      "text/plain": [
       "0          NaN\n",
       "1         16.0\n",
       "2         40.0\n",
       "3         32.0\n",
       "4         13.0\n",
       "         ...  \n",
       "17374    122.0\n",
       "17375    119.0\n",
       "17376     89.0\n",
       "17377     90.0\n",
       "17378     61.0\n",
       "Name: sum_hr_shift_1, Length: 17379, dtype: float64"
      ]
     },
     "execution_count": 40,
     "metadata": {},
     "output_type": "execute_result"
    }
   ],
   "source": [
    "# prior hours\n",
    "bikes_hour_df_shift['sum_hr_shift_1']"
   ]
  },
  {
   "cell_type": "code",
   "execution_count": 41,
   "id": "01167def",
   "metadata": {},
   "outputs": [
    {
     "data": {
      "text/plain": [
       "np.float64(189.47117044539073)"
      ]
     },
     "execution_count": 41,
     "metadata": {},
     "output_type": "execute_result"
    }
   ],
   "source": [
    "# prior hours\n",
    "np.mean(bikes_hour_df_shift['sum_hr_shift_1'])\n"
   ]
  },
  {
   "cell_type": "code",
   "execution_count": 42,
   "id": "bdf916e3",
   "metadata": {},
   "outputs": [
    {
     "name": "stdout",
     "output_type": "stream",
     "text": [
      "R^2 for hr is 0.159431\n",
      "R^2 for season is 0.025891\n",
      "R^2 for holiday is -0.001242\n",
      "R^2 for temp is 0.168313\n"
     ]
    }
   ],
   "source": [
    "# loop through each feature and calculate the R^2 score\n",
    "features = ['hr', 'season', 'holiday', 'temp']\n",
    "from sklearn import linear_model\n",
    "from sklearn.metrics import r2_score\n",
    "\n",
    "# split data into train and test portions and model\n",
    "X_train, X_test, y_train, y_test = train_test_split(bike_df_model_ready[features], \n",
    "                                                 bike_df_model_ready[['cnt']], \n",
    "                                                 test_size=0.3, random_state=42)\n",
    "    \n",
    "for feat in features:\n",
    "    model_lr = linear_model.LinearRegression()\n",
    "    model_lr.fit(X_train[[feat]], y_train)\n",
    "    predictions = model_lr.predict(X_test[[feat]])\n",
    "    print('R^2 for %s is %f' % (feat, r2_score(y_test, predictions)))"
   ]
  },
  {
   "cell_type": "code",
   "execution_count": 48,
   "id": "1ddd935a",
   "metadata": {},
   "outputs": [
    {
     "name": "stdout",
     "output_type": "stream",
     "text": [
      "R^2 for hr is 0.160129\n",
      "R^2 for holiday is -0.000566\n",
      "R^2 for temp is 0.166963\n",
      "R^2 for season_1 is 0.058428\n",
      "R^2 for season_2 is 0.004411\n",
      "R^2 for season_3 is 0.021628\n",
      "R^2 for season_4 is -0.001285\n",
      "Total R^2 is 0.409708\n"
     ]
    }
   ],
   "source": [
    "# simple approach - make a copy for editing without affecting original\n",
    "bike_df_model_ready = bikes_hour_df[['hr', 'season', 'holiday', 'temp', 'cnt']].copy()\n",
    "\n",
    "outcome = 'cnt'\n",
    "\n",
    "# dummify categorical columns\n",
    "bike_df_model_ready = prepare_data_for_model(bike_df_model_ready,  drop_first = False, \n",
    "                                             make_na_col = False, target_columns = ['season'])\n",
    "\n",
    "features = [feat for feat in bike_df_model_ready if feat not in ['cnt']]  \n",
    "\n",
    "# split data into train and test portions and model\n",
    "X_train, X_test, y_train, y_test = train_test_split(bike_df_model_ready[features], \n",
    "                                                 bike_df_model_ready[['cnt']], \n",
    "                                                 test_size=0.3, random_state=42)\n",
    "from sklearn import linear_model\n",
    "model_lr = linear_model.LinearRegression()\n",
    "\n",
    "total_R2 = 0\n",
    "for feat in features:\n",
    "    model_lr = linear_model.LinearRegression()\n",
    "    # train the model on training set\n",
    "    model_lr.fit(X_train[[feat]], y_train)\n",
    "    predictions = model_lr.predict(X_test[[feat]])\n",
    "    \n",
    "    print('R^2 for %s is %f' % (feat, r2_score(y_test, predictions)))\n",
    "    total_R2 += r2_score(y_test, predictions)\n",
    "print('Total R^2 is %f' % (total_R2))"
   ]
  },
  {
   "cell_type": "code",
   "execution_count": 49,
   "id": "dc893352",
   "metadata": {},
   "outputs": [
    {
     "name": "stdout",
     "output_type": "stream",
     "text": [
      "Intercept: -119.061877\n"
     ]
    }
   ],
   "source": [
    "from sklearn import linear_model\n",
    "model_lr = linear_model.LinearRegression()\n",
    "model_lr.fit(X_train, y_train)\n",
    "print('Intercept: %f' % model_lr.intercept_)"
   ]
  },
  {
   "cell_type": "code",
   "execution_count": 50,
   "id": "fa67fc3e",
   "metadata": {},
   "outputs": [
    {
     "data": {
      "text/html": [
       "<div>\n",
       "<style scoped>\n",
       "    .dataframe tbody tr th:only-of-type {\n",
       "        vertical-align: middle;\n",
       "    }\n",
       "\n",
       "    .dataframe tbody tr th {\n",
       "        vertical-align: top;\n",
       "    }\n",
       "\n",
       "    .dataframe thead th {\n",
       "        text-align: right;\n",
       "    }\n",
       "</style>\n",
       "<table border=\"1\" class=\"dataframe\">\n",
       "  <thead>\n",
       "    <tr style=\"text-align: right;\">\n",
       "      <th></th>\n",
       "      <th>coefficients</th>\n",
       "      <th>features</th>\n",
       "    </tr>\n",
       "  </thead>\n",
       "  <tbody>\n",
       "    <tr>\n",
       "      <th>5</th>\n",
       "      <td>-42.697445</td>\n",
       "      <td>season_3</td>\n",
       "    </tr>\n",
       "    <tr>\n",
       "      <th>1</th>\n",
       "      <td>-29.096613</td>\n",
       "      <td>holiday</td>\n",
       "    </tr>\n",
       "    <tr>\n",
       "      <th>4</th>\n",
       "      <td>-3.808865</td>\n",
       "      <td>season_2</td>\n",
       "    </tr>\n",
       "    <tr>\n",
       "      <th>3</th>\n",
       "      <td>3.523756</td>\n",
       "      <td>season_1</td>\n",
       "    </tr>\n",
       "    <tr>\n",
       "      <th>0</th>\n",
       "      <td>8.626766</td>\n",
       "      <td>hr</td>\n",
       "    </tr>\n",
       "    <tr>\n",
       "      <th>6</th>\n",
       "      <td>42.982554</td>\n",
       "      <td>season_4</td>\n",
       "    </tr>\n",
       "    <tr>\n",
       "      <th>2</th>\n",
       "      <td>425.523181</td>\n",
       "      <td>temp</td>\n",
       "    </tr>\n",
       "  </tbody>\n",
       "</table>\n",
       "</div>"
      ],
      "text/plain": [
       "   coefficients  features\n",
       "5    -42.697445  season_3\n",
       "1    -29.096613   holiday\n",
       "4     -3.808865  season_2\n",
       "3      3.523756  season_1\n",
       "0      8.626766        hr\n",
       "6     42.982554  season_4\n",
       "2    425.523181      temp"
      ]
     },
     "execution_count": 50,
     "metadata": {},
     "output_type": "execute_result"
    }
   ],
   "source": [
    "feature_coefficients = pd.DataFrame({'coefficients':model_lr.coef_[0],\n",
    "                                    'features':X_train.columns.values})\n",
    "feature_coefficients.sort_values('coefficients')"
   ]
  },
  {
   "cell_type": "code",
   "execution_count": 51,
   "id": "7c4ce111",
   "metadata": {},
   "outputs": [],
   "source": [
    "INTERCEPT = -119.061877\n",
    "COEF_HOLIDAY = -29.096613   # if day is holiday or not\n",
    "COEF_HOUR = 8.626766\t    # hour (0 to 23)\n",
    "COEF_SEASON_1 = 3.523756    # 1: spring\n",
    "COEF_SEASON_2 = -3.808865   # 2: summer\n",
    "COEF_SEASON_3 = -42.697445  # 3: fall\n",
    "COEF_SEASON_4 = 42.982554   # 4: winter\n",
    "COEF_TEMP = 425.523181      # normalized temp in Celsius -8 to +39"
   ]
  },
  {
   "cell_type": "code",
   "execution_count": 55,
   "id": "b11bd39b",
   "metadata": {},
   "outputs": [
    {
     "data": {
      "text/plain": [
       "count    17379.000000\n",
       "mean         0.496987\n",
       "std          0.192556\n",
       "min          0.020000\n",
       "25%          0.340000\n",
       "50%          0.500000\n",
       "75%          0.660000\n",
       "max          1.000000\n",
       "Name: temp, dtype: float64"
      ]
     },
     "execution_count": 55,
     "metadata": {},
     "output_type": "execute_result"
    }
   ],
   "source": [
    "bikes_hour_df['temp'].describe()"
   ]
  },
  {
   "cell_type": "code",
   "execution_count": 57,
   "id": "8e3b2f38",
   "metadata": {},
   "outputs": [],
   "source": [
    "MEAN_HOLIDAY = 0   # if day is holiday or not\n",
    "MEAN_HOUR = 11.546752   # hour (0 to 23)\n",
    "MEAN_SEASON_1 = 0  # 1: spring\n",
    "MEAN_SEASON_2 = 0  # 2: summer\n",
    "MEAN_SEASON_3 = 1  # 3: fall\n",
    "MEAN_SEASON_4 = 0  # 4: winter\n",
    "MEAN_TEMP = 0.496987 # normalized temp in Celsius -8 to +39"
   ]
  },
  {
   "cell_type": "code",
   "execution_count": 58,
   "id": "49d37259",
   "metadata": {},
   "outputs": [
    {
     "name": "stdout",
     "output_type": "stream",
     "text": [
      "Estimated bike rental count for selected parameters: 127\n"
     ]
    }
   ],
   "source": [
    "rental_counts = INTERCEPT + (MEAN_HOLIDAY * COEF_HOLIDAY) \\\n",
    "        + (9 * COEF_HOUR) \\\n",
    "        + (MEAN_SEASON_1 * COEF_SEASON_1)  + (MEAN_SEASON_2 * COEF_SEASON_2) \\\n",
    "        + (MEAN_SEASON_3 * COEF_SEASON_3)  + (MEAN_SEASON_4 * COEF_SEASON_4) \\\n",
    "        + (MEAN_TEMP * COEF_TEMP)\n",
    "print('Estimated bike rental count for selected parameters: %i' % int(rental_counts))"
   ]
  }
 ],
 "metadata": {
  "kernelspec": {
   "display_name": "venv",
   "language": "python",
   "name": "python3"
  },
  "language_info": {
   "codemirror_mode": {
    "name": "ipython",
    "version": 3
   },
   "file_extension": ".py",
   "mimetype": "text/x-python",
   "name": "python",
   "nbconvert_exporter": "python",
   "pygments_lexer": "ipython3",
   "version": "3.13.7"
  }
 },
 "nbformat": 4,
 "nbformat_minor": 5
}
